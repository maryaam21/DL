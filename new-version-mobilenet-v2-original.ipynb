{
 "cells": [
  {
   "cell_type": "code",
   "execution_count": 1,
   "id": "32e8df6e",
   "metadata": {
    "_cell_guid": "b1076dfc-b9ad-4769-8c92-a6c4dae69d19",
    "_uuid": "8f2839f25d086af736a60e9eeb907d3b93b6e0e5",
    "execution": {
     "iopub.execute_input": "2023-05-07T15:47:45.166122Z",
     "iopub.status.busy": "2023-05-07T15:47:45.164869Z",
     "iopub.status.idle": "2023-05-07T15:47:51.452020Z",
     "shell.execute_reply": "2023-05-07T15:47:51.451128Z"
    },
    "papermill": {
     "duration": 6.300394,
     "end_time": "2023-05-07T15:47:51.454270",
     "exception": false,
     "start_time": "2023-05-07T15:47:45.153876",
     "status": "completed"
    },
    "tags": []
   },
   "outputs": [
    {
     "name": "stderr",
     "output_type": "stream",
     "text": [
      "/opt/conda/lib/python3.10/site-packages/scipy/__init__.py:146: UserWarning: A NumPy version >=1.16.5 and <1.23.0 is required for this version of SciPy (detected version 1.23.5\n",
      "  warnings.warn(f\"A NumPy version >={np_minversion} and <{np_maxversion}\"\n"
     ]
    }
   ],
   "source": [
    "import tensorflow as tf\n",
    "from tensorflow.keras.layers import Input, Dense, Flatten, Dropout\n",
    "from tensorflow.keras.applications.mobilenet_v2 import MobileNetV2\n",
    "from tensorflow.keras.optimizers import Adam\n",
    "from tensorflow.keras.preprocessing.image import ImageDataGenerator"
   ]
  },
  {
   "cell_type": "code",
   "execution_count": 2,
   "id": "c3b99011",
   "metadata": {
    "execution": {
     "iopub.execute_input": "2023-05-07T15:47:51.462547Z",
     "iopub.status.busy": "2023-05-07T15:47:51.460932Z",
     "iopub.status.idle": "2023-05-07T15:47:51.466638Z",
     "shell.execute_reply": "2023-05-07T15:47:51.465803Z"
    },
    "papermill": {
     "duration": 0.010987,
     "end_time": "2023-05-07T15:47:51.468368",
     "exception": false,
     "start_time": "2023-05-07T15:47:51.457381",
     "status": "completed"
    },
    "tags": []
   },
   "outputs": [],
   "source": [
    "# Set up the data generators for training and validation\n",
    "train_datagen = ImageDataGenerator(\n",
    "    rescale=1./255,\n",
    "    shear_range=0.2,\n",
    "    zoom_range=0.2,\n",
    "    horizontal_flip=True,\n",
    "    validation_split=0.2)"
   ]
  },
  {
   "cell_type": "code",
   "execution_count": 3,
   "id": "873c27bf",
   "metadata": {
    "execution": {
     "iopub.execute_input": "2023-05-07T15:47:51.474800Z",
     "iopub.status.busy": "2023-05-07T15:47:51.474246Z",
     "iopub.status.idle": "2023-05-07T15:48:02.836924Z",
     "shell.execute_reply": "2023-05-07T15:48:02.835894Z"
    },
    "papermill": {
     "duration": 11.368442,
     "end_time": "2023-05-07T15:48:02.839237",
     "exception": false,
     "start_time": "2023-05-07T15:47:51.470795",
     "status": "completed"
    },
    "tags": []
   },
   "outputs": [
    {
     "name": "stdout",
     "output_type": "stream",
     "text": [
      "Found 7684 images belonging to 2 classes.\n"
     ]
    }
   ],
   "source": [
    "train_generator = train_datagen.flow_from_directory(\n",
    "    '/kaggle/input/melanoma10000/Melanoma10000/Original/Train',\n",
    "    target_size=(224, 224),\n",
    "    batch_size=32,\n",
    "    class_mode='binary',\n",
    "    subset='training')"
   ]
  },
  {
   "cell_type": "code",
   "execution_count": 4,
   "id": "eb23a68a",
   "metadata": {
    "execution": {
     "iopub.execute_input": "2023-05-07T15:48:02.846604Z",
     "iopub.status.busy": "2023-05-07T15:48:02.845679Z",
     "iopub.status.idle": "2023-05-07T15:48:04.064145Z",
     "shell.execute_reply": "2023-05-07T15:48:04.063315Z"
    },
    "papermill": {
     "duration": 1.223954,
     "end_time": "2023-05-07T15:48:04.066083",
     "exception": false,
     "start_time": "2023-05-07T15:48:02.842129",
     "status": "completed"
    },
    "tags": []
   },
   "outputs": [
    {
     "name": "stdout",
     "output_type": "stream",
     "text": [
      "Found 1921 images belonging to 2 classes.\n"
     ]
    }
   ],
   "source": [
    "validation_generator = train_datagen.flow_from_directory(\n",
    "    '/kaggle/input/melanoma10000/Melanoma10000/Original/Train',\n",
    "    target_size=(224, 224),\n",
    "    batch_size=32,\n",
    "    class_mode='binary',\n",
    "    subset='validation')"
   ]
  },
  {
   "cell_type": "code",
   "execution_count": 5,
   "id": "7a8f0ba1",
   "metadata": {
    "execution": {
     "iopub.execute_input": "2023-05-07T15:48:04.073415Z",
     "iopub.status.busy": "2023-05-07T15:48:04.072679Z",
     "iopub.status.idle": "2023-05-07T15:48:09.041538Z",
     "shell.execute_reply": "2023-05-07T15:48:09.040659Z"
    },
    "papermill": {
     "duration": 4.97459,
     "end_time": "2023-05-07T15:48:09.043719",
     "exception": false,
     "start_time": "2023-05-07T15:48:04.069129",
     "status": "completed"
    },
    "tags": []
   },
   "outputs": [
    {
     "name": "stdout",
     "output_type": "stream",
     "text": [
      "Downloading data from https://storage.googleapis.com/tensorflow/keras-applications/mobilenet_v2/mobilenet_v2_weights_tf_dim_ordering_tf_kernels_1.0_224_no_top.h5\n",
      "9406464/9406464 [==============================] - 1s 0us/step\n"
     ]
    }
   ],
   "source": [
    "# Create the MobileNet-v2 base model\n",
    "base_model = MobileNetV2(input_shape=(224, 224, 3), include_top=False, weights='imagenet')\n",
    "\n",
    "# Freeze the base model layers\n",
    "for layer in base_model.layers:\n",
    "    layer.trainable = False\n",
    "\n",
    "# Add custom classification layers\n",
    "x = base_model.output\n",
    "x = Flatten()(x)\n",
    "x = Dense(128, activation='relu')(x)\n",
    "x = Dropout(0.5)(x)\n",
    "predictions = Dense(1, activation='sigmoid')(x)"
   ]
  },
  {
   "cell_type": "code",
   "execution_count": 6,
   "id": "5e41e29d",
   "metadata": {
    "execution": {
     "iopub.execute_input": "2023-05-07T15:48:09.053008Z",
     "iopub.status.busy": "2023-05-07T15:48:09.052277Z",
     "iopub.status.idle": "2023-05-07T15:48:09.065730Z",
     "shell.execute_reply": "2023-05-07T15:48:09.064839Z"
    },
    "papermill": {
     "duration": 0.01989,
     "end_time": "2023-05-07T15:48:09.067790",
     "exception": false,
     "start_time": "2023-05-07T15:48:09.047900",
     "status": "completed"
    },
    "tags": []
   },
   "outputs": [],
   "source": [
    "# Create the custom model\n",
    "model = tf.keras.models.Model(inputs=base_model.input, outputs=predictions)"
   ]
  },
  {
   "cell_type": "code",
   "execution_count": 7,
   "id": "2238c2be",
   "metadata": {
    "execution": {
     "iopub.execute_input": "2023-05-07T15:48:09.075675Z",
     "iopub.status.busy": "2023-05-07T15:48:09.075438Z",
     "iopub.status.idle": "2023-05-07T15:48:09.093155Z",
     "shell.execute_reply": "2023-05-07T15:48:09.092417Z"
    },
    "papermill": {
     "duration": 0.02371,
     "end_time": "2023-05-07T15:48:09.094850",
     "exception": false,
     "start_time": "2023-05-07T15:48:09.071140",
     "status": "completed"
    },
    "tags": []
   },
   "outputs": [],
   "source": [
    "# Compile the model\n",
    "model.compile(optimizer=Adam(lr=0.0001), loss='binary_crossentropy', metrics=['accuracy'])\n"
   ]
  },
  {
   "cell_type": "code",
   "execution_count": 8,
   "id": "fb950301",
   "metadata": {
    "execution": {
     "iopub.execute_input": "2023-05-07T15:48:09.103401Z",
     "iopub.status.busy": "2023-05-07T15:48:09.103133Z",
     "iopub.status.idle": "2023-05-07T16:11:31.891062Z",
     "shell.execute_reply": "2023-05-07T16:11:31.890119Z"
    },
    "papermill": {
     "duration": 1402.920514,
     "end_time": "2023-05-07T16:11:32.019104",
     "exception": false,
     "start_time": "2023-05-07T15:48:09.098590",
     "status": "completed"
    },
    "tags": []
   },
   "outputs": [
    {
     "name": "stderr",
     "output_type": "stream",
     "text": [
      "/tmp/ipykernel_24/1662597982.py:2: UserWarning: `Model.fit_generator` is deprecated and will be removed in a future version. Please use `Model.fit`, which supports generators.\n",
      "  model.fit_generator(\n"
     ]
    },
    {
     "name": "stdout",
     "output_type": "stream",
     "text": [
      "Epoch 1/10\n",
      "240/240 [==============================] - 183s 728ms/step - loss: 0.7138 - accuracy: 0.8170 - val_loss: 0.3087 - val_accuracy: 0.8766\n",
      "Epoch 2/10\n",
      "240/240 [==============================] - 128s 536ms/step - loss: 0.3270 - accuracy: 0.8651 - val_loss: 0.2788 - val_accuracy: 0.8854\n",
      "Epoch 3/10\n",
      "240/240 [==============================] - 128s 534ms/step - loss: 0.3169 - accuracy: 0.8684 - val_loss: 0.2667 - val_accuracy: 0.8938\n",
      "Epoch 4/10\n",
      "240/240 [==============================] - 127s 529ms/step - loss: 0.2994 - accuracy: 0.8758 - val_loss: 0.2397 - val_accuracy: 0.9047\n",
      "Epoch 5/10\n",
      "240/240 [==============================] - 126s 526ms/step - loss: 0.2713 - accuracy: 0.8811 - val_loss: 0.2495 - val_accuracy: 0.9010\n",
      "Epoch 6/10\n",
      "240/240 [==============================] - 108s 451ms/step - loss: 0.2600 - accuracy: 0.8924 - val_loss: 0.2295 - val_accuracy: 0.9083\n",
      "Epoch 7/10\n",
      "240/240 [==============================] - 129s 537ms/step - loss: 0.2477 - accuracy: 0.9008 - val_loss: 0.2540 - val_accuracy: 0.8922\n",
      "Epoch 8/10\n",
      "240/240 [==============================] - 127s 528ms/step - loss: 0.2425 - accuracy: 0.8983 - val_loss: 0.2286 - val_accuracy: 0.9109\n",
      "Epoch 9/10\n",
      "240/240 [==============================] - 127s 530ms/step - loss: 0.2372 - accuracy: 0.9049 - val_loss: 0.2489 - val_accuracy: 0.9026\n",
      "Epoch 10/10\n",
      "240/240 [==============================] - 107s 444ms/step - loss: 0.2348 - accuracy: 0.9000 - val_loss: 0.2728 - val_accuracy: 0.8922\n"
     ]
    },
    {
     "data": {
      "text/plain": [
       "<keras.callbacks.History at 0x7dd82f025b10>"
      ]
     },
     "execution_count": 8,
     "metadata": {},
     "output_type": "execute_result"
    }
   ],
   "source": [
    "# Train the model\n",
    "model.fit_generator(\n",
    "    train_generator,\n",
    "    steps_per_epoch=train_generator.n // train_generator.batch_size,\n",
    "    epochs=10,\n",
    "    validation_data=validation_generator,\n",
    "    validation_steps=validation_generator.n // validation_generator.batch_size)"
   ]
  },
  {
   "cell_type": "code",
   "execution_count": 9,
   "id": "10ae6db0",
   "metadata": {
    "execution": {
     "iopub.execute_input": "2023-05-07T16:11:32.274379Z",
     "iopub.status.busy": "2023-05-07T16:11:32.274024Z",
     "iopub.status.idle": "2023-05-07T16:11:32.527539Z",
     "shell.execute_reply": "2023-05-07T16:11:32.526455Z"
    },
    "papermill": {
     "duration": 0.384866,
     "end_time": "2023-05-07T16:11:32.529530",
     "exception": false,
     "start_time": "2023-05-07T16:11:32.144664",
     "status": "completed"
    },
    "tags": []
   },
   "outputs": [
    {
     "name": "stdout",
     "output_type": "stream",
     "text": [
      "Found 1000 images belonging to 2 classes.\n"
     ]
    }
   ],
   "source": [
    "# Evaluate the model on the test set\n",
    "test_datagen = ImageDataGenerator(rescale=1./255)\n",
    "test_generator = test_datagen.flow_from_directory(\n",
    "    '/kaggle/input/melanoma10000/Melanoma10000/Original/Test',\n",
    "    target_size=(224, 224),\n",
    "    batch_size=32,\n",
    "    class_mode='binary')"
   ]
  },
  {
   "cell_type": "code",
   "execution_count": 10,
   "id": "a555b1e2",
   "metadata": {
    "execution": {
     "iopub.execute_input": "2023-05-07T16:11:32.788704Z",
     "iopub.status.busy": "2023-05-07T16:11:32.787867Z",
     "iopub.status.idle": "2023-05-07T16:11:40.235994Z",
     "shell.execute_reply": "2023-05-07T16:11:40.234230Z"
    },
    "papermill": {
     "duration": 7.582285,
     "end_time": "2023-05-07T16:11:40.238275",
     "exception": false,
     "start_time": "2023-05-07T16:11:32.655990",
     "status": "completed"
    },
    "tags": []
   },
   "outputs": [
    {
     "name": "stderr",
     "output_type": "stream",
     "text": [
      "/tmp/ipykernel_24/4035526485.py:1: UserWarning: `Model.evaluate_generator` is deprecated and will be removed in a future version. Please use `Model.evaluate`, which supports generators.\n",
      "  test_loss, test_acc = model.evaluate_generator(test_generator, steps=test_generator.n // test_generator.batch_size)\n"
     ]
    },
    {
     "name": "stdout",
     "output_type": "stream",
     "text": [
      "Test accuracy: 0.9032257795333862\n"
     ]
    }
   ],
   "source": [
    "test_loss, test_acc = model.evaluate_generator(test_generator, steps=test_generator.n // test_generator.batch_size)\n",
    "print('Test accuracy:', test_acc)"
   ]
  }
 ],
 "metadata": {
  "kernelspec": {
   "display_name": "Python 3",
   "language": "python",
   "name": "python3"
  },
  "language_info": {
   "codemirror_mode": {
    "name": "ipython",
    "version": 3
   },
   "file_extension": ".py",
   "mimetype": "text/x-python",
   "name": "python",
   "nbconvert_exporter": "python",
   "pygments_lexer": "ipython3",
   "version": "3.10.10"
  },
  "papermill": {
   "default_parameters": {},
   "duration": 1447.510314,
   "end_time": "2023-05-07T16:11:43.633105",
   "environment_variables": {},
   "exception": null,
   "input_path": "__notebook__.ipynb",
   "output_path": "__notebook__.ipynb",
   "parameters": {},
   "start_time": "2023-05-07T15:47:36.122791",
   "version": "2.4.0"
  }
 },
 "nbformat": 4,
 "nbformat_minor": 5
}
